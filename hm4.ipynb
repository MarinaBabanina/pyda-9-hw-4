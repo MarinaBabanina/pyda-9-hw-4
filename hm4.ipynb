{
 "cells": [
  {
   "cell_type": "markdown",
   "metadata": {},
   "source": [
    "# Домашнее задание по теме\n",
    "# «Управляющие конструкции и коллекции», часть 2\n",
    "\n",
    "## Задание 1. \n",
    "\n",
    "Дан список с визитами по городам и странам. Напишите код, который возвращает отфильтрованный список geo_logs, содержащий только визиты из России."
   ]
  },
  {
   "cell_type": "code",
   "execution_count": 34,
   "metadata": {},
   "outputs": [
    {
     "name": "stdout",
     "output_type": "stream",
     "text": [
      "[{'visit1': ['Москва', 'Россия']},\n",
      " {'visit3': ['Владимир', 'Россия']},\n",
      " {'visit7': ['Тула', 'Россия']},\n",
      " {'visit8': ['Тула', 'Россия']},\n",
      " {'visit9': ['Курск', 'Россия']},\n",
      " {'visit10': ['Архангельск', 'Россия']}]\n"
     ]
    }
   ],
   "source": [
    "from pprint import pprint\n",
    "\n",
    "geo_logs = [\n",
    "    {'visit1': ['Москва', 'Россия']},\n",
    "    {'visit2': ['Дели', 'Индия']},\n",
    "    {'visit3': ['Владимир', 'Россия']},\n",
    "    {'visit4': ['Лиссабон', 'Португалия']},\n",
    "    {'visit5': ['Париж', 'Франция']},\n",
    "    {'visit6': ['Лиссабон', 'Португалия']},\n",
    "    {'visit7': ['Тула', 'Россия']},\n",
    "    {'visit8': ['Тула', 'Россия']},\n",
    "    {'visit9': ['Курск', 'Россия']},\n",
    "    {'visit10': ['Архангельск', 'Россия']}\n",
    "]\n",
    "\n",
    "try:\n",
    "    new_geo_logs = []\n",
    "    for visits in geo_logs:\n",
    "        for visit in visits.values():\n",
    "            if visit[1] == 'Россия':\n",
    "                new_geo_logs.append(visits)\n",
    "                \n",
    "    geo_logs = new_geo_logs.copy()   \n",
    "    pprint(geo_logs)                \n",
    "except:\n",
    "    pprint('Что-то пошло нет так!')"
   ]
  },
  {
   "cell_type": "markdown",
   "metadata": {},
   "source": [
    "\n",
    "## Задание 2. \n",
    "\n",
    "Выведите на экран все уникальные гео-ID из значений словаря ids. Т. е. список вида [213, 15, 54, 119, 98, 35]"
   ]
  },
  {
   "cell_type": "code",
   "execution_count": 40,
   "metadata": {},
   "outputs": [
    {
     "name": "stdout",
     "output_type": "stream",
     "text": [
      "[98, 35, 15, 213, 54, 119]\n"
     ]
    }
   ],
   "source": [
    "from pprint import pprint\n",
    "\n",
    "ids = {'user1': [213, 213, 213, 15, 213], \n",
    "       'user2': [54, 54, 119, 119, 119], \n",
    "       'user3': [213, 98, 98, 35]}\n",
    "try:\n",
    "    geo_id = set()\n",
    "    for values in ids.values():\n",
    "        for geo in values:\n",
    "            geo_id.add(geo)\n",
    "            \n",
    "    pprint(list(geo_id))\n",
    "except:\n",
    "    pprint('Что-то пошло нет так!')"
   ]
  },
  {
   "cell_type": "markdown",
   "metadata": {},
   "source": [
    "## Задание 3. \n",
    "\n",
    "Дан список поисковых запросов. Получить распределение количества слов в них. Т. е. поисковых запросов из одного - слова 5%, из двух - 7%, из трех - 3% и т.д."
   ]
  },
  {
   "cell_type": "code",
   "execution_count": 54,
   "metadata": {},
   "outputs": [
    {
     "name": "stdout",
     "output_type": "stream",
     "text": [
      "'поисковых запросов из 3 слов(а) 57%'\n",
      "'поисковых запросов из 2 слов(а) 43%'\n"
     ]
    }
   ],
   "source": [
    "from pprint import pprint\n",
    "\n",
    "queries = [\n",
    "    'смотреть сериалы онлайн',\n",
    "    'новости спорта',\n",
    "    'афиша кино',\n",
    "    'курс доллара',\n",
    "    'сериалы этим летом',\n",
    "    'курс по питону',\n",
    "    'сериалы про спорт',\n",
    "]\n",
    "\n",
    "try:\n",
    "    que_list = set()\n",
    "    dist_que = {}\n",
    "    dict_que = {queries.index(element): len(element.split(' ')) for element in queries}\n",
    "    for q in dict_que.values():\n",
    "        if q in que_list:\n",
    "            dist_que[q] = dist_que.get(q) + 1\n",
    "        else:\n",
    "            que_list.add(q)\n",
    "            dist_que[q] = 1\n",
    "    \n",
    "    for el_k, el_v in dist_que.items():\n",
    "        pprint(f'поисковых запросов из {el_k} слов(а) {round(el_v * 100 / len(queries))}%')\n",
    "except:\n",
    "    pprint('Что-то пошло нет так!')"
   ]
  },
  {
   "cell_type": "markdown",
   "metadata": {},
   "source": [
    "## Задание 4. \n",
    "\n",
    "Дана статистика рекламных каналов по объемам продаж. Напишите скрипт, который возвращает название канала с максимальным объемом. Т. е. в данном примере скрипт должен возвращать 'yandex'."
   ]
  },
  {
   "cell_type": "code",
   "execution_count": 59,
   "metadata": {},
   "outputs": [
    {
     "name": "stdout",
     "output_type": "stream",
     "text": [
      "yandex\n"
     ]
    }
   ],
   "source": [
    "stats = {'facebook': 55, 'yandex': 120, 'vk': 115, 'google': 99, 'email': 42, 'ok': 98}\n",
    "\n",
    "try:\n",
    "    for stats_k, stats_v in stats.items():\n",
    "        if stats_v == max([amn for amn in stats.values()]):\n",
    "            print(stats_k)    \n",
    "except:\n",
    "    print('Что-то пошло нет так!')"
   ]
  },
  {
   "cell_type": "markdown",
   "metadata": {},
   "source": [
    "\n",
    "## Задание 5. \n",
    "\n",
    "Напишите код для преобразования произвольного списка вида ['2018-01-01', 'yandex', 'cpc', 100] (он может быть любой длины) в словарь {'2018-01-01': {'yandex': {'cpc': 100}}}"
   ]
  },
  {
   "cell_type": "code",
   "execution_count": 71,
   "metadata": {},
   "outputs": [
    {
     "name": "stdout",
     "output_type": "stream",
     "text": [
      "{'2018-01-01': {'yandex': {'cpc': 100}}, '2018-01-02': {'yandex': {'cpc': 100}}}\n"
     ]
    }
   ],
   "source": [
    "from pprint import pprint\n",
    "\n",
    "old_list = ['2018-01-01', 'yandex', 'cpc', 100, '2018-01-02', 'yandex', 'cpc', 100]\n",
    "\n",
    "try:\n",
    "    el = 0\n",
    "    new_dict = {}\n",
    "    for n in range(len(old_list) // 4):\n",
    "        new_dict[old_list[el]] = {old_list[el+1]: {old_list[el+2]: old_list[el+3]}}\n",
    "        el = el + 4\n",
    "    pprint(new_dict)\n",
    "except:\n",
    "    pprint('Что-то пошло нет так!')"
   ]
  }
 ],
 "metadata": {
  "kernelspec": {
   "display_name": "Python 3",
   "language": "python",
   "name": "python3"
  },
  "language_info": {
   "codemirror_mode": {
    "name": "ipython",
    "version": 3
   },
   "file_extension": ".py",
   "mimetype": "text/x-python",
   "name": "python",
   "nbconvert_exporter": "python",
   "pygments_lexer": "ipython3",
   "version": "3.7.6"
  }
 },
 "nbformat": 4,
 "nbformat_minor": 4
}
